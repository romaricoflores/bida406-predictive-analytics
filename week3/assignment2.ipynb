{
 "cells": [
  {
   "attachments": {},
   "cell_type": "markdown",
   "metadata": {},
   "source": [
    "### Loan Data Analysis - BIDA406 Assignment 2 - Roma Rico Flores"
   ]
  },
  {
   "attachments": {},
   "cell_type": "markdown",
   "metadata": {},
   "source": [
    "####\n",
    "Data Used - https://www.kaggle.com/datasets/zhijinzhai/loandata <br />\n",
    "Project Guide - https://www.kaggle.com/code/varunmarvah/loan-dataset-analysis-basics || https://www.kaggle.com/code/gcdatkin/loan-payment-prediction-100-accuracy\n",
    "\n",
    "#### Libraries used\n",
    "1. Numpy\n",
    "2. Pandas\n",
    "3. Seaborn\n",
    "4. Sklearn\n",
    "5. XGBoost"
   ]
  },
  {
   "attachments": {},
   "cell_type": "markdown",
   "metadata": {},
   "source": [
    "#### Exploratory Data Analysis"
   ]
  },
  {
   "cell_type": "code",
   "execution_count": 20,
   "metadata": {},
   "outputs": [],
   "source": [
    "#Import basic exploratory data analysis/visualization tools\n",
    "import numpy as np\n",
    "import pandas as pd\n",
    "import matplotlib.pyplot as plt # Matplotlib library for visualisation \n",
    "%matplotlib inline\n",
    "import seaborn as sns\n",
    "\n",
    "#Import sklearn preprocessing tools\n",
    "from sklearn.preprocessing import StandardScaler\n",
    "from sklearn.model_selection import train_test_split\n",
    "\n",
    "#Import sklearn data modeling libraries\n",
    "from sklearn.linear_model import LogisticRegression\n",
    "from sklearn.svm import SVC\n",
    "from sklearn.tree import DecisionTreeClassifier\n",
    "from sklearn.neural_network import MLPClassifier\n",
    "from sklearn.ensemble import RandomForestClassifier\n",
    "from xgboost import XGBClassifier"
   ]
  },
  {
   "cell_type": "code",
   "execution_count": 21,
   "metadata": {},
   "outputs": [
    {
     "data": {
      "text/html": [
       "<div>\n",
       "<style scoped>\n",
       "    .dataframe tbody tr th:only-of-type {\n",
       "        vertical-align: middle;\n",
       "    }\n",
       "\n",
       "    .dataframe tbody tr th {\n",
       "        vertical-align: top;\n",
       "    }\n",
       "\n",
       "    .dataframe thead th {\n",
       "        text-align: right;\n",
       "    }\n",
       "</style>\n",
       "<table border=\"1\" class=\"dataframe\">\n",
       "  <thead>\n",
       "    <tr style=\"text-align: right;\">\n",
       "      <th></th>\n",
       "      <th>Loan_ID</th>\n",
       "      <th>loan_status</th>\n",
       "      <th>Principal</th>\n",
       "      <th>terms</th>\n",
       "      <th>effective_date</th>\n",
       "      <th>due_date</th>\n",
       "      <th>paid_off_time</th>\n",
       "      <th>past_due_days</th>\n",
       "      <th>age</th>\n",
       "      <th>education</th>\n",
       "      <th>Gender</th>\n",
       "    </tr>\n",
       "  </thead>\n",
       "  <tbody>\n",
       "    <tr>\n",
       "      <th>0</th>\n",
       "      <td>xqd20166231</td>\n",
       "      <td>PAIDOFF</td>\n",
       "      <td>1000</td>\n",
       "      <td>30</td>\n",
       "      <td>9/8/2016</td>\n",
       "      <td>10/7/2016</td>\n",
       "      <td>9/14/2016 19:31</td>\n",
       "      <td>NaN</td>\n",
       "      <td>45</td>\n",
       "      <td>High School or Below</td>\n",
       "      <td>male</td>\n",
       "    </tr>\n",
       "    <tr>\n",
       "      <th>1</th>\n",
       "      <td>xqd20168902</td>\n",
       "      <td>PAIDOFF</td>\n",
       "      <td>1000</td>\n",
       "      <td>30</td>\n",
       "      <td>9/8/2016</td>\n",
       "      <td>10/7/2016</td>\n",
       "      <td>10/7/2016 9:00</td>\n",
       "      <td>NaN</td>\n",
       "      <td>50</td>\n",
       "      <td>Bechalor</td>\n",
       "      <td>female</td>\n",
       "    </tr>\n",
       "    <tr>\n",
       "      <th>2</th>\n",
       "      <td>xqd20160003</td>\n",
       "      <td>PAIDOFF</td>\n",
       "      <td>1000</td>\n",
       "      <td>30</td>\n",
       "      <td>9/8/2016</td>\n",
       "      <td>10/7/2016</td>\n",
       "      <td>9/25/2016 16:58</td>\n",
       "      <td>NaN</td>\n",
       "      <td>33</td>\n",
       "      <td>Bechalor</td>\n",
       "      <td>female</td>\n",
       "    </tr>\n",
       "    <tr>\n",
       "      <th>3</th>\n",
       "      <td>xqd20160004</td>\n",
       "      <td>PAIDOFF</td>\n",
       "      <td>1000</td>\n",
       "      <td>15</td>\n",
       "      <td>9/8/2016</td>\n",
       "      <td>9/22/2016</td>\n",
       "      <td>9/22/2016 20:00</td>\n",
       "      <td>NaN</td>\n",
       "      <td>27</td>\n",
       "      <td>college</td>\n",
       "      <td>male</td>\n",
       "    </tr>\n",
       "    <tr>\n",
       "      <th>4</th>\n",
       "      <td>xqd20160005</td>\n",
       "      <td>PAIDOFF</td>\n",
       "      <td>1000</td>\n",
       "      <td>30</td>\n",
       "      <td>9/9/2016</td>\n",
       "      <td>10/8/2016</td>\n",
       "      <td>9/23/2016 21:36</td>\n",
       "      <td>NaN</td>\n",
       "      <td>28</td>\n",
       "      <td>college</td>\n",
       "      <td>female</td>\n",
       "    </tr>\n",
       "    <tr>\n",
       "      <th>...</th>\n",
       "      <td>...</td>\n",
       "      <td>...</td>\n",
       "      <td>...</td>\n",
       "      <td>...</td>\n",
       "      <td>...</td>\n",
       "      <td>...</td>\n",
       "      <td>...</td>\n",
       "      <td>...</td>\n",
       "      <td>...</td>\n",
       "      <td>...</td>\n",
       "      <td>...</td>\n",
       "    </tr>\n",
       "    <tr>\n",
       "      <th>495</th>\n",
       "      <td>xqd20160496</td>\n",
       "      <td>COLLECTION_PAIDOFF</td>\n",
       "      <td>1000</td>\n",
       "      <td>30</td>\n",
       "      <td>9/12/2016</td>\n",
       "      <td>10/11/2016</td>\n",
       "      <td>10/14/2016 19:08</td>\n",
       "      <td>3.0</td>\n",
       "      <td>28</td>\n",
       "      <td>High School or Below</td>\n",
       "      <td>male</td>\n",
       "    </tr>\n",
       "    <tr>\n",
       "      <th>496</th>\n",
       "      <td>xqd20160497</td>\n",
       "      <td>COLLECTION_PAIDOFF</td>\n",
       "      <td>1000</td>\n",
       "      <td>15</td>\n",
       "      <td>9/12/2016</td>\n",
       "      <td>9/26/2016</td>\n",
       "      <td>10/10/2016 20:02</td>\n",
       "      <td>14.0</td>\n",
       "      <td>26</td>\n",
       "      <td>High School or Below</td>\n",
       "      <td>male</td>\n",
       "    </tr>\n",
       "    <tr>\n",
       "      <th>497</th>\n",
       "      <td>xqd20160498</td>\n",
       "      <td>COLLECTION_PAIDOFF</td>\n",
       "      <td>800</td>\n",
       "      <td>15</td>\n",
       "      <td>9/12/2016</td>\n",
       "      <td>9/26/2016</td>\n",
       "      <td>9/29/2016 11:49</td>\n",
       "      <td>3.0</td>\n",
       "      <td>30</td>\n",
       "      <td>college</td>\n",
       "      <td>male</td>\n",
       "    </tr>\n",
       "    <tr>\n",
       "      <th>498</th>\n",
       "      <td>xqd20160499</td>\n",
       "      <td>COLLECTION_PAIDOFF</td>\n",
       "      <td>1000</td>\n",
       "      <td>30</td>\n",
       "      <td>9/12/2016</td>\n",
       "      <td>11/10/2016</td>\n",
       "      <td>11/11/2016 22:40</td>\n",
       "      <td>1.0</td>\n",
       "      <td>38</td>\n",
       "      <td>college</td>\n",
       "      <td>female</td>\n",
       "    </tr>\n",
       "    <tr>\n",
       "      <th>499</th>\n",
       "      <td>xqd20160500</td>\n",
       "      <td>COLLECTION_PAIDOFF</td>\n",
       "      <td>1000</td>\n",
       "      <td>30</td>\n",
       "      <td>9/12/2016</td>\n",
       "      <td>10/11/2016</td>\n",
       "      <td>10/19/2016 11:58</td>\n",
       "      <td>8.0</td>\n",
       "      <td>28</td>\n",
       "      <td>High School or Below</td>\n",
       "      <td>male</td>\n",
       "    </tr>\n",
       "  </tbody>\n",
       "</table>\n",
       "<p>500 rows × 11 columns</p>\n",
       "</div>"
      ],
      "text/plain": [
       "         Loan_ID         loan_status  Principal  terms effective_date  \\\n",
       "0    xqd20166231             PAIDOFF       1000     30       9/8/2016   \n",
       "1    xqd20168902             PAIDOFF       1000     30       9/8/2016   \n",
       "2    xqd20160003             PAIDOFF       1000     30       9/8/2016   \n",
       "3    xqd20160004             PAIDOFF       1000     15       9/8/2016   \n",
       "4    xqd20160005             PAIDOFF       1000     30       9/9/2016   \n",
       "..           ...                 ...        ...    ...            ...   \n",
       "495  xqd20160496  COLLECTION_PAIDOFF       1000     30      9/12/2016   \n",
       "496  xqd20160497  COLLECTION_PAIDOFF       1000     15      9/12/2016   \n",
       "497  xqd20160498  COLLECTION_PAIDOFF        800     15      9/12/2016   \n",
       "498  xqd20160499  COLLECTION_PAIDOFF       1000     30      9/12/2016   \n",
       "499  xqd20160500  COLLECTION_PAIDOFF       1000     30      9/12/2016   \n",
       "\n",
       "       due_date     paid_off_time  past_due_days  age             education  \\\n",
       "0     10/7/2016   9/14/2016 19:31            NaN   45  High School or Below   \n",
       "1     10/7/2016    10/7/2016 9:00            NaN   50              Bechalor   \n",
       "2     10/7/2016   9/25/2016 16:58            NaN   33              Bechalor   \n",
       "3     9/22/2016   9/22/2016 20:00            NaN   27               college   \n",
       "4     10/8/2016   9/23/2016 21:36            NaN   28               college   \n",
       "..          ...               ...            ...  ...                   ...   \n",
       "495  10/11/2016  10/14/2016 19:08            3.0   28  High School or Below   \n",
       "496   9/26/2016  10/10/2016 20:02           14.0   26  High School or Below   \n",
       "497   9/26/2016   9/29/2016 11:49            3.0   30               college   \n",
       "498  11/10/2016  11/11/2016 22:40            1.0   38               college   \n",
       "499  10/11/2016  10/19/2016 11:58            8.0   28  High School or Below   \n",
       "\n",
       "     Gender  \n",
       "0      male  \n",
       "1    female  \n",
       "2    female  \n",
       "3      male  \n",
       "4    female  \n",
       "..      ...  \n",
       "495    male  \n",
       "496    male  \n",
       "497    male  \n",
       "498  female  \n",
       "499    male  \n",
       "\n",
       "[500 rows x 11 columns]"
      ]
     },
     "execution_count": 21,
     "metadata": {},
     "output_type": "execute_result"
    }
   ],
   "source": [
    "#Load data and save the dataframe into variable df\n",
    "df = pd.read_csv(\"loan-payments-data.csv\")\n",
    "df"
   ]
  },
  {
   "cell_type": "code",
   "execution_count": 22,
   "metadata": {},
   "outputs": [
    {
     "data": {
      "text/plain": [
       "array(['PAIDOFF', 'COLLECTION', 'COLLECTION_PAIDOFF'], dtype=object)"
      ]
     },
     "execution_count": 22,
     "metadata": {},
     "output_type": "execute_result"
    }
   ],
   "source": [
    "#Finding the unique values from the loan status so I know what the status states of loans are\n",
    "\n",
    "df['loan_status'].unique()"
   ]
  },
  {
   "cell_type": "code",
   "execution_count": 23,
   "metadata": {},
   "outputs": [
    {
     "data": {
      "text/plain": [
       "array([30, 15,  7], dtype=int64)"
      ]
     },
     "execution_count": 23,
     "metadata": {},
     "output_type": "execute_result"
    }
   ],
   "source": [
    "df['terms'].unique()"
   ]
  },
  {
   "attachments": {},
   "cell_type": "markdown",
   "metadata": {},
   "source": [
    "My Understanding of Data:\n",
    "1. Loan_id - a unique ID field assigned to specific loans\n",
    "2. Loan_status - tells whether the loan is (1) already paid off (2) in collection process or (3) paid off after the collection efforts\n",
    "3. Principal\n",
    "4. terms - schedule of payment whether monthly, bi-weekly (15), or weekly (7)\n",
    "5. Effective_date - date when the loan started\n",
    "6. Due_date\n",
    "7. Paidoff_time - date and time when loan was paid off, null means loan is yet to be paid\n",
    "8. Pastdue_days - How many days a loan has past due date\n",
    "9. Age\n",
    "10. Education\n",
    "11. Gender"
   ]
  },
  {
   "cell_type": "code",
   "execution_count": 24,
   "metadata": {},
   "outputs": [
    {
     "data": {
      "text/html": [
       "<div>\n",
       "<style scoped>\n",
       "    .dataframe tbody tr th:only-of-type {\n",
       "        vertical-align: middle;\n",
       "    }\n",
       "\n",
       "    .dataframe tbody tr th {\n",
       "        vertical-align: top;\n",
       "    }\n",
       "\n",
       "    .dataframe thead th {\n",
       "        text-align: right;\n",
       "    }\n",
       "</style>\n",
       "<table border=\"1\" class=\"dataframe\">\n",
       "  <thead>\n",
       "    <tr style=\"text-align: right;\">\n",
       "      <th></th>\n",
       "      <th>Principal</th>\n",
       "      <th>terms</th>\n",
       "      <th>past_due_days</th>\n",
       "      <th>age</th>\n",
       "    </tr>\n",
       "  </thead>\n",
       "  <tbody>\n",
       "    <tr>\n",
       "      <th>count</th>\n",
       "      <td>500.000000</td>\n",
       "      <td>500.000000</td>\n",
       "      <td>200.00000</td>\n",
       "      <td>500.000000</td>\n",
       "    </tr>\n",
       "    <tr>\n",
       "      <th>mean</th>\n",
       "      <td>943.200000</td>\n",
       "      <td>22.824000</td>\n",
       "      <td>36.01000</td>\n",
       "      <td>31.116000</td>\n",
       "    </tr>\n",
       "    <tr>\n",
       "      <th>std</th>\n",
       "      <td>115.240274</td>\n",
       "      <td>8.000064</td>\n",
       "      <td>29.38088</td>\n",
       "      <td>6.084784</td>\n",
       "    </tr>\n",
       "    <tr>\n",
       "      <th>min</th>\n",
       "      <td>300.000000</td>\n",
       "      <td>7.000000</td>\n",
       "      <td>1.00000</td>\n",
       "      <td>18.000000</td>\n",
       "    </tr>\n",
       "    <tr>\n",
       "      <th>25%</th>\n",
       "      <td>1000.000000</td>\n",
       "      <td>15.000000</td>\n",
       "      <td>3.00000</td>\n",
       "      <td>27.000000</td>\n",
       "    </tr>\n",
       "    <tr>\n",
       "      <th>50%</th>\n",
       "      <td>1000.000000</td>\n",
       "      <td>30.000000</td>\n",
       "      <td>37.00000</td>\n",
       "      <td>30.000000</td>\n",
       "    </tr>\n",
       "    <tr>\n",
       "      <th>75%</th>\n",
       "      <td>1000.000000</td>\n",
       "      <td>30.000000</td>\n",
       "      <td>60.00000</td>\n",
       "      <td>35.000000</td>\n",
       "    </tr>\n",
       "    <tr>\n",
       "      <th>max</th>\n",
       "      <td>1000.000000</td>\n",
       "      <td>30.000000</td>\n",
       "      <td>76.00000</td>\n",
       "      <td>51.000000</td>\n",
       "    </tr>\n",
       "  </tbody>\n",
       "</table>\n",
       "</div>"
      ],
      "text/plain": [
       "         Principal       terms  past_due_days         age\n",
       "count   500.000000  500.000000      200.00000  500.000000\n",
       "mean    943.200000   22.824000       36.01000   31.116000\n",
       "std     115.240274    8.000064       29.38088    6.084784\n",
       "min     300.000000    7.000000        1.00000   18.000000\n",
       "25%    1000.000000   15.000000        3.00000   27.000000\n",
       "50%    1000.000000   30.000000       37.00000   30.000000\n",
       "75%    1000.000000   30.000000       60.00000   35.000000\n",
       "max    1000.000000   30.000000       76.00000   51.000000"
      ]
     },
     "execution_count": 24,
     "metadata": {},
     "output_type": "execute_result"
    }
   ],
   "source": [
    "#Pandas descibe function is used to check data's descriptive statistics  including central tendency metrics, dispersion and shape of a dataset’s distribution.\n",
    "df.describe()"
   ]
  },
  {
   "cell_type": "code",
   "execution_count": 25,
   "metadata": {},
   "outputs": [
    {
     "name": "stdout",
     "output_type": "stream",
     "text": [
      "<class 'pandas.core.frame.DataFrame'>\n",
      "RangeIndex: 500 entries, 0 to 499\n",
      "Data columns (total 11 columns):\n",
      " #   Column          Non-Null Count  Dtype  \n",
      "---  ------          --------------  -----  \n",
      " 0   Loan_ID         500 non-null    object \n",
      " 1   loan_status     500 non-null    object \n",
      " 2   Principal       500 non-null    int64  \n",
      " 3   terms           500 non-null    int64  \n",
      " 4   effective_date  500 non-null    object \n",
      " 5   due_date        500 non-null    object \n",
      " 6   paid_off_time   400 non-null    object \n",
      " 7   past_due_days   200 non-null    float64\n",
      " 8   age             500 non-null    int64  \n",
      " 9   education       500 non-null    object \n",
      " 10  Gender          500 non-null    object \n",
      "dtypes: float64(1), int64(3), object(7)\n",
      "memory usage: 43.1+ KB\n"
     ]
    }
   ],
   "source": [
    "#Checking summary of dataset including the data type/schema and no. of non-null entries\n",
    "df.info()"
   ]
  },
  {
   "cell_type": "code",
   "execution_count": 26,
   "metadata": {},
   "outputs": [
    {
     "data": {
      "text/plain": [
       "Loan_ID             0\n",
       "loan_status         0\n",
       "Principal           0\n",
       "terms               0\n",
       "effective_date      0\n",
       "due_date            0\n",
       "paid_off_time     100\n",
       "past_due_days     300\n",
       "age                 0\n",
       "education           0\n",
       "Gender              0\n",
       "dtype: int64"
      ]
     },
     "execution_count": 26,
     "metadata": {},
     "output_type": "execute_result"
    }
   ],
   "source": [
    "#Checking if there are any nulls in each column\n",
    "df.isna().sum()"
   ]
  },
  {
   "cell_type": "code",
   "execution_count": 27,
   "metadata": {},
   "outputs": [
    {
     "data": {
      "text/plain": [
       "{'Loan_ID': 500,\n",
       " 'loan_status': 3,\n",
       " 'Principal': 6,\n",
       " 'terms': 3,\n",
       " 'effective_date': 7,\n",
       " 'due_date': 25,\n",
       " 'paid_off_time': 321,\n",
       " 'past_due_days': 34,\n",
       " 'age': 33,\n",
       " 'education': 4,\n",
       " 'Gender': 2}"
      ]
     },
     "execution_count": 27,
     "metadata": {},
     "output_type": "execute_result"
    }
   ],
   "source": [
    "#Checking the number of unique entries in each column, curly braces are used when defining a dictionary data type in Python\n",
    "{column: len(df[column].unique()) for column in df.columns}"
   ]
  },
  {
   "cell_type": "code",
   "execution_count": 28,
   "metadata": {},
   "outputs": [
    {
     "data": {
      "text/plain": [
       "(500, 11)"
      ]
     },
     "execution_count": 28,
     "metadata": {},
     "output_type": "execute_result"
    }
   ],
   "source": [
    "#Checking dataset shape (i.e. rows, columns)\n",
    "df.shape"
   ]
  },
  {
   "attachments": {},
   "cell_type": "markdown",
   "metadata": {},
   "source": [
    "#### Exploratory Data Analysis"
   ]
  },
  {
   "cell_type": "code",
   "execution_count": 29,
   "metadata": {},
   "outputs": [],
   "source": [
    "#Data visualization - set background to be just white\n",
    "sns.set(style=\"whitegrid\") "
   ]
  },
  {
   "cell_type": "code",
   "execution_count": 30,
   "metadata": {},
   "outputs": [
    {
     "name": "stderr",
     "output_type": "stream",
     "text": [
      "C:\\Users\\flore\\AppData\\Local\\Temp\\ipykernel_18464\\3888131818.py:2: FutureWarning: The default value of numeric_only in DataFrame.corr is deprecated. In a future version, it will default to False. Select only valid columns or specify the value of numeric_only to silence this warning.\n",
      "  df_corr = df.corr()\n"
     ]
    },
    {
     "data": {
      "text/html": [
       "<div>\n",
       "<style scoped>\n",
       "    .dataframe tbody tr th:only-of-type {\n",
       "        vertical-align: middle;\n",
       "    }\n",
       "\n",
       "    .dataframe tbody tr th {\n",
       "        vertical-align: top;\n",
       "    }\n",
       "\n",
       "    .dataframe thead th {\n",
       "        text-align: right;\n",
       "    }\n",
       "</style>\n",
       "<table border=\"1\" class=\"dataframe\">\n",
       "  <thead>\n",
       "    <tr style=\"text-align: right;\">\n",
       "      <th></th>\n",
       "      <th>Principal</th>\n",
       "      <th>terms</th>\n",
       "      <th>past_due_days</th>\n",
       "      <th>age</th>\n",
       "    </tr>\n",
       "  </thead>\n",
       "  <tbody>\n",
       "    <tr>\n",
       "      <th>Principal</th>\n",
       "      <td>1.000000</td>\n",
       "      <td>0.534302</td>\n",
       "      <td>-0.093139</td>\n",
       "      <td>-0.092613</td>\n",
       "    </tr>\n",
       "    <tr>\n",
       "      <th>terms</th>\n",
       "      <td>0.534302</td>\n",
       "      <td>1.000000</td>\n",
       "      <td>-0.102613</td>\n",
       "      <td>-0.074259</td>\n",
       "    </tr>\n",
       "    <tr>\n",
       "      <th>past_due_days</th>\n",
       "      <td>-0.093139</td>\n",
       "      <td>-0.102613</td>\n",
       "      <td>1.000000</td>\n",
       "      <td>-0.053849</td>\n",
       "    </tr>\n",
       "    <tr>\n",
       "      <th>age</th>\n",
       "      <td>-0.092613</td>\n",
       "      <td>-0.074259</td>\n",
       "      <td>-0.053849</td>\n",
       "      <td>1.000000</td>\n",
       "    </tr>\n",
       "  </tbody>\n",
       "</table>\n",
       "</div>"
      ],
      "text/plain": [
       "               Principal     terms  past_due_days       age\n",
       "Principal       1.000000  0.534302      -0.093139 -0.092613\n",
       "terms           0.534302  1.000000      -0.102613 -0.074259\n",
       "past_due_days  -0.093139 -0.102613       1.000000 -0.053849\n",
       "age            -0.092613 -0.074259      -0.053849  1.000000"
      ]
     },
     "execution_count": 30,
     "metadata": {},
     "output_type": "execute_result"
    }
   ],
   "source": [
    "#Quick check of data correlations\n",
    "df_corr = df.corr()\n",
    "df_corr"
   ]
  },
  {
   "cell_type": "code",
   "execution_count": 31,
   "metadata": {},
   "outputs": [],
   "source": [
    "#Using heat map to quickly viusalize the correlation table but we can't truly visualize our data here since correlation only works for numerical values"
   ]
  },
  {
   "cell_type": "code",
   "execution_count": 32,
   "metadata": {},
   "outputs": [
    {
     "data": {
      "text/plain": [
       "<Axes: >"
      ]
     },
     "execution_count": 32,
     "metadata": {},
     "output_type": "execute_result"
    },
    {
     "data": {
      "image/png": "[encoded data removed]",
      "text/plain": [
       "<Figure size 640x480 with 2 Axes>"
      ]
     },
     "metadata": {},
     "output_type": "display_data"
    }
   ],
   "source": [
    "sns.heatmap(df_corr)"
   ]
  },
  {
   "cell_type": "code",
   "execution_count": 33,
   "metadata": {},
   "outputs": [
    {
     "data": {
      "image/png": "[encoded data removed]",
      "text/plain": [
       "<Figure size 640x480 with 1 Axes>"
      ]
     },
     "metadata": {},
     "output_type": "display_data"
    }
   ],
   "source": [
    "# First of all lets find out how many loan cases are Paid Off, Collection or Collection_PaidOff status\n",
    "x = sns.countplot(x=\"loan_status\", data=df)"
   ]
  },
  {
   "cell_type": "code",
   "execution_count": 34,
   "metadata": {},
   "outputs": [
    {
     "data": {
      "image/png": "[encoded data removed]",
      "text/plain": [
       "<Figure size 640x480 with 1 Axes>"
      ]
     },
     "metadata": {},
     "output_type": "display_data"
    }
   ],
   "source": [
    "#Checking loan status based on gender, i.e. double bar chart wherein the color indicates gender\n",
    "y = sns.countplot(x=\"loan_status\", data=df , hue='Gender')"
   ]
  },
  {
   "attachments": {},
   "cell_type": "markdown",
   "metadata": {},
   "source": [
    "Chart shows that there girls have lesser loans overall.<br/>\n",
    "Checking the loan totals for: weekly (7 days), Fortnightly (15 Days) , Monthly (30days) payments and their loan status."
   ]
  },
  {
   "cell_type": "code",
   "execution_count": 35,
   "metadata": {},
   "outputs": [
    {
     "data": {
      "image/png": "[encoded data removed]",
      "text/plain": [
       "<Figure size 640x480 with 1 Axes>"
      ]
     },
     "metadata": {},
     "output_type": "display_data"
    }
   ],
   "source": [
    "x = sns.countplot(x=\"terms\", data=df , hue='loan_status', palette='pastel', linewidth=5)"
   ]
  },
  {
   "attachments": {},
   "cell_type": "markdown",
   "metadata": {},
   "source": [
    "There is relatively fewer loans on a weekly schedule compared to the bi-weekly and monthly payment modes."
   ]
  },
  {
   "attachments": {},
   "cell_type": "markdown",
   "metadata": {},
   "source": [
    "Let's check if level of education affects loan amount and payment status."
   ]
  },
  {
   "cell_type": "code",
   "execution_count": null,
   "metadata": {},
   "outputs": [],
   "source": [
    "#Code not working\n",
    "\n",
    "#g = sns.catplot(\"loan_status\", col=\"education\", col_wrap=4,\n",
    "#                 data=mydf[mydf.loan_status.notnull()],\n",
    "#                 kind=\"count\", height=12.5, aspect=.6)"
   ]
  },
  {
   "cell_type": "code",
   "execution_count": 46,
   "metadata": {},
   "outputs": [
    {
     "data": {
      "text/plain": [
       "<matplotlib.legend.Legend at 0x1798f586a90>"
      ]
     },
     "execution_count": 46,
     "metadata": {},
     "output_type": "execute_result"
    },
    {
     "data": {
      "image/png": "[encoded data removed]",
      "text/plain": [
       "<Figure size 640x480 with 1 Axes>"
      ]
     },
     "metadata": {},
     "output_type": "display_data"
    }
   ],
   "source": [
    "# Age vs Principal amount based on Gender\n",
    "# Black bar indicates the the error bar. This represents the variability of data\n",
    "# and used on graphs to indicate the error or uncertainty in a reported measurement.\n",
    "\n",
    "ax = sns.barplot(x=\"Principal\", y=\"age\",hue=\"Gender\" ,  data=df)\n",
    "ax.legend(loc=\"upper right\")"
   ]
  },
  {
   "cell_type": "markdown",
   "metadata": {},
   "source": [
    "Data Modeling"
   ]
  },
  {
   "cell_type": "code",
   "execution_count": 47,
   "metadata": {},
   "outputs": [],
   "source": [
    "def binary_encode(df, column, positive_value):\n",
    "    df = df.copy()\n",
    "    df[column] = df[column].apply(lambda x: 1 if x == positive_value else 0)\n",
    "    return df\n",
    "\n",
    "def ordinal_encode(df, column, ordering):\n",
    "    df = df.copy()\n",
    "    df[column] = df[column].apply(lambda x: ordering.index(x))\n",
    "    return df"
   ]
  },
  {
   "cell_type": "code",
   "execution_count": 50,
   "metadata": {},
   "outputs": [],
   "source": [
    "def preprocess_inputs(df):\n",
    "    df = df.copy()\n",
    "    \n",
    "    # Drop Loan_ID column\n",
    "    df = df.drop('Loan_ID', axis=1)\n",
    "    \n",
    "    # Create date/time columns\n",
    "    for column in ['effective_date', 'due_date', 'paid_off_time']:\n",
    "        df[column] = pd.to_datetime(df[column])\n",
    "    \n",
    "    df['effective_day'] = df['effective_date'].apply(lambda x: x.day)\n",
    "    \n",
    "    df['due_month'] = df['due_date'].apply(lambda x: x.month)\n",
    "    df['due_day'] = df['due_date'].apply(lambda x: x.day)\n",
    "    \n",
    "    df['paid_off_month'] = df['paid_off_time'].apply(lambda x: x.month)\n",
    "    df['paid_off_day'] = df['paid_off_time'].apply(lambda x: x.day)\n",
    "    df['paid_off_hour'] = df['paid_off_time'].apply(lambda x: x.hour)\n",
    "    \n",
    "    df = df.drop(['effective_date', 'due_date', 'paid_off_time'], axis=1)\n",
    "    \n",
    "    # Fill missing values with column means\n",
    "    for column in ['past_due_days', 'paid_off_month', 'paid_off_day', 'paid_off_hour']:\n",
    "        df[column] = df[column].fillna(df[column].mean())\n",
    "    \n",
    "    # Binary encode the Gender column\n",
    "    df = binary_encode(df, 'Gender', positive_value='male')\n",
    "    \n",
    "    # Ordinal encode the education column\n",
    "    education_ordering = [\n",
    "        'High School or Below',\n",
    "        'college',\n",
    "        'Bechalor',\n",
    "        'Master or Above'\n",
    "    ]\n",
    "    df = ordinal_encode(df, 'education', ordering=education_ordering)\n",
    "    \n",
    "    # Encode the label (loan_status) column\n",
    "    label_mapping = {'COLLECTION': 0, 'PAIDOFF': 1, 'COLLECTION_PAIDOFF': 2}\n",
    "    df['loan_status'] = df['loan_status'].replace(label_mapping)\n",
    "    \n",
    "    # Split df into X and y\n",
    "    y = df['loan_status'].copy()\n",
    "    X = df.drop('loan_status', axis=1).copy()\n",
    "    \n",
    "    # Scale X with a standard scaler\n",
    "    scaler = StandardScaler()\n",
    "    X = pd.DataFrame(scaler.fit_transform(X), columns=X.columns)\n",
    "    \n",
    "    return X, y"
   ]
  },
  {
   "cell_type": "code",
   "execution_count": 51,
   "metadata": {},
   "outputs": [],
   "source": [
    "X, y = preprocess_inputs(df)"
   ]
  },
  {
   "cell_type": "code",
   "execution_count": 54,
   "metadata": {},
   "outputs": [
    {
     "data": {
      "text/html": [
       "<div>\n",
       "<style scoped>\n",
       "    .dataframe tbody tr th:only-of-type {\n",
       "        vertical-align: middle;\n",
       "    }\n",
       "\n",
       "    .dataframe tbody tr th {\n",
       "        vertical-align: top;\n",
       "    }\n",
       "\n",
       "    .dataframe thead th {\n",
       "        text-align: right;\n",
       "    }\n",
       "</style>\n",
       "<table border=\"1\" class=\"dataframe\">\n",
       "  <thead>\n",
       "    <tr style=\"text-align: right;\">\n",
       "      <th></th>\n",
       "      <th>Principal</th>\n",
       "      <th>terms</th>\n",
       "      <th>past_due_days</th>\n",
       "      <th>age</th>\n",
       "      <th>education</th>\n",
       "      <th>Gender</th>\n",
       "      <th>effective_day</th>\n",
       "      <th>due_month</th>\n",
       "      <th>due_day</th>\n",
       "      <th>paid_off_month</th>\n",
       "      <th>paid_off_day</th>\n",
       "      <th>paid_off_hour</th>\n",
       "    </tr>\n",
       "  </thead>\n",
       "  <tbody>\n",
       "    <tr>\n",
       "      <th>0</th>\n",
       "      <td>0.493377</td>\n",
       "      <td>0.897891</td>\n",
       "      <td>0.000000</td>\n",
       "      <td>2.284043</td>\n",
       "      <td>-1.022825</td>\n",
       "      <td>0.426653</td>\n",
       "      <td>-3.126073</td>\n",
       "      <td>0.664986</td>\n",
       "      <td>-1.303142</td>\n",
       "      <td>-1.035098</td>\n",
       "      <td>-0.463997</td>\n",
       "      <td>1.339835</td>\n",
       "    </tr>\n",
       "    <tr>\n",
       "      <th>1</th>\n",
       "      <td>0.493377</td>\n",
       "      <td>0.897891</td>\n",
       "      <td>0.000000</td>\n",
       "      <td>3.106587</td>\n",
       "      <td>1.771779</td>\n",
       "      <td>-2.343823</td>\n",
       "      <td>-3.126073</td>\n",
       "      <td>0.664986</td>\n",
       "      <td>-1.303142</td>\n",
       "      <td>0.690066</td>\n",
       "      <td>-1.475829</td>\n",
       "      <td>-1.072109</td>\n",
       "    </tr>\n",
       "    <tr>\n",
       "      <th>2</th>\n",
       "      <td>0.493377</td>\n",
       "      <td>0.897891</td>\n",
       "      <td>0.000000</td>\n",
       "      <td>0.309935</td>\n",
       "      <td>1.771779</td>\n",
       "      <td>-2.343823</td>\n",
       "      <td>-3.126073</td>\n",
       "      <td>0.664986</td>\n",
       "      <td>-1.303142</td>\n",
       "      <td>-1.035098</td>\n",
       "      <td>1.126025</td>\n",
       "      <td>0.616252</td>\n",
       "    </tr>\n",
       "    <tr>\n",
       "      <th>3</th>\n",
       "      <td>0.493377</td>\n",
       "      <td>-0.978972</td>\n",
       "      <td>0.000000</td>\n",
       "      <td>-0.677119</td>\n",
       "      <td>0.374477</td>\n",
       "      <td>0.426653</td>\n",
       "      <td>-3.126073</td>\n",
       "      <td>-1.094236</td>\n",
       "      <td>0.724148</td>\n",
       "      <td>-1.035098</td>\n",
       "      <td>0.692382</td>\n",
       "      <td>1.581030</td>\n",
       "    </tr>\n",
       "    <tr>\n",
       "      <th>4</th>\n",
       "      <td>0.493377</td>\n",
       "      <td>0.897891</td>\n",
       "      <td>0.000000</td>\n",
       "      <td>-0.512610</td>\n",
       "      <td>0.374477</td>\n",
       "      <td>-2.343823</td>\n",
       "      <td>-2.209336</td>\n",
       "      <td>0.664986</td>\n",
       "      <td>-1.167989</td>\n",
       "      <td>-1.035098</td>\n",
       "      <td>0.836930</td>\n",
       "      <td>1.822224</td>\n",
       "    </tr>\n",
       "    <tr>\n",
       "      <th>...</th>\n",
       "      <td>...</td>\n",
       "      <td>...</td>\n",
       "      <td>...</td>\n",
       "      <td>...</td>\n",
       "      <td>...</td>\n",
       "      <td>...</td>\n",
       "      <td>...</td>\n",
       "      <td>...</td>\n",
       "      <td>...</td>\n",
       "      <td>...</td>\n",
       "      <td>...</td>\n",
       "      <td>...</td>\n",
       "    </tr>\n",
       "    <tr>\n",
       "      <th>495</th>\n",
       "      <td>0.493377</td>\n",
       "      <td>0.897891</td>\n",
       "      <td>-1.780899</td>\n",
       "      <td>-0.512610</td>\n",
       "      <td>-1.022825</td>\n",
       "      <td>0.426653</td>\n",
       "      <td>0.540875</td>\n",
       "      <td>0.664986</td>\n",
       "      <td>-0.762531</td>\n",
       "      <td>0.690066</td>\n",
       "      <td>-0.463997</td>\n",
       "      <td>1.339835</td>\n",
       "    </tr>\n",
       "    <tr>\n",
       "      <th>496</th>\n",
       "      <td>0.493377</td>\n",
       "      <td>-0.978972</td>\n",
       "      <td>-1.187446</td>\n",
       "      <td>-0.841628</td>\n",
       "      <td>-1.022825</td>\n",
       "      <td>0.426653</td>\n",
       "      <td>0.540875</td>\n",
       "      <td>-1.094236</td>\n",
       "      <td>1.264758</td>\n",
       "      <td>0.690066</td>\n",
       "      <td>-1.042187</td>\n",
       "      <td>1.581030</td>\n",
       "    </tr>\n",
       "    <tr>\n",
       "      <th>497</th>\n",
       "      <td>-1.243866</td>\n",
       "      <td>-0.978972</td>\n",
       "      <td>-1.780899</td>\n",
       "      <td>-0.183592</td>\n",
       "      <td>0.374477</td>\n",
       "      <td>0.426653</td>\n",
       "      <td>0.540875</td>\n",
       "      <td>-1.094236</td>\n",
       "      <td>1.264758</td>\n",
       "      <td>-1.035098</td>\n",
       "      <td>1.704214</td>\n",
       "      <td>-0.589721</td>\n",
       "    </tr>\n",
       "    <tr>\n",
       "      <th>498</th>\n",
       "      <td>0.493377</td>\n",
       "      <td>0.897891</td>\n",
       "      <td>-1.888799</td>\n",
       "      <td>1.132480</td>\n",
       "      <td>0.374477</td>\n",
       "      <td>-2.343823</td>\n",
       "      <td>0.540875</td>\n",
       "      <td>2.424209</td>\n",
       "      <td>-0.897684</td>\n",
       "      <td>2.415229</td>\n",
       "      <td>-0.897640</td>\n",
       "      <td>2.063419</td>\n",
       "    </tr>\n",
       "    <tr>\n",
       "      <th>499</th>\n",
       "      <td>0.493377</td>\n",
       "      <td>0.897891</td>\n",
       "      <td>-1.511147</td>\n",
       "      <td>-0.512610</td>\n",
       "      <td>-1.022825</td>\n",
       "      <td>0.426653</td>\n",
       "      <td>0.540875</td>\n",
       "      <td>0.664986</td>\n",
       "      <td>-0.762531</td>\n",
       "      <td>0.690066</td>\n",
       "      <td>0.258740</td>\n",
       "      <td>-0.589721</td>\n",
       "    </tr>\n",
       "  </tbody>\n",
       "</table>\n",
       "<p>500 rows × 12 columns</p>\n",
       "</div>"
      ],
      "text/plain": [
       "     Principal     terms  past_due_days       age  education    Gender  \\\n",
       "0     0.493377  0.897891       0.000000  2.284043  -1.022825  0.426653   \n",
       "1     0.493377  0.897891       0.000000  3.106587   1.771779 -2.343823   \n",
       "2     0.493377  0.897891       0.000000  0.309935   1.771779 -2.343823   \n",
       "3     0.493377 -0.978972       0.000000 -0.677119   0.374477  0.426653   \n",
       "4     0.493377  0.897891       0.000000 -0.512610   0.374477 -2.343823   \n",
       "..         ...       ...            ...       ...        ...       ...   \n",
       "495   0.493377  0.897891      -1.780899 -0.512610  -1.022825  0.426653   \n",
       "496   0.493377 -0.978972      -1.187446 -0.841628  -1.022825  0.426653   \n",
       "497  -1.243866 -0.978972      -1.780899 -0.183592   0.374477  0.426653   \n",
       "498   0.493377  0.897891      -1.888799  1.132480   0.374477 -2.343823   \n",
       "499   0.493377  0.897891      -1.511147 -0.512610  -1.022825  0.426653   \n",
       "\n",
       "     effective_day  due_month   due_day  paid_off_month  paid_off_day  \\\n",
       "0        -3.126073   0.664986 -1.303142       -1.035098     -0.463997   \n",
       "1        -3.126073   0.664986 -1.303142        0.690066     -1.475829   \n",
       "2        -3.126073   0.664986 -1.303142       -1.035098      1.126025   \n",
       "3        -3.126073  -1.094236  0.724148       -1.035098      0.692382   \n",
       "4        -2.209336   0.664986 -1.167989       -1.035098      0.836930   \n",
       "..             ...        ...       ...             ...           ...   \n",
       "495       0.540875   0.664986 -0.762531        0.690066     -0.463997   \n",
       "496       0.540875  -1.094236  1.264758        0.690066     -1.042187   \n",
       "497       0.540875  -1.094236  1.264758       -1.035098      1.704214   \n",
       "498       0.540875   2.424209 -0.897684        2.415229     -0.897640   \n",
       "499       0.540875   0.664986 -0.762531        0.690066      0.258740   \n",
       "\n",
       "     paid_off_hour  \n",
       "0         1.339835  \n",
       "1        -1.072109  \n",
       "2         0.616252  \n",
       "3         1.581030  \n",
       "4         1.822224  \n",
       "..             ...  \n",
       "495       1.339835  \n",
       "496       1.581030  \n",
       "497      -0.589721  \n",
       "498       2.063419  \n",
       "499      -0.589721  \n",
       "\n",
       "[500 rows x 12 columns]"
      ]
     },
     "execution_count": 54,
     "metadata": {},
     "output_type": "execute_result"
    }
   ],
   "source": [
    "#Features/Input:\n",
    "X"
   ]
  },
  {
   "cell_type": "code",
   "execution_count": 55,
   "metadata": {},
   "outputs": [
    {
     "data": {
      "text/plain": [
       "0      1\n",
       "1      1\n",
       "2      1\n",
       "3      1\n",
       "4      1\n",
       "      ..\n",
       "495    2\n",
       "496    2\n",
       "497    2\n",
       "498    2\n",
       "499    2\n",
       "Name: loan_status, Length: 500, dtype: int64"
      ]
     },
     "execution_count": 55,
     "metadata": {},
     "output_type": "execute_result"
    }
   ],
   "source": [
    "#Target/outputs:\n",
    "y"
   ]
  },
  {
   "cell_type": "code",
   "execution_count": 56,
   "metadata": {},
   "outputs": [],
   "source": [
    "#Splitting test and train datasets\n",
    "X_train, X_test, y_train, y_test = train_test_split(X, y, train_size=0.7, random_state=123)"
   ]
  },
  {
   "cell_type": "code",
   "execution_count": 57,
   "metadata": {},
   "outputs": [
    {
     "name": "stderr",
     "output_type": "stream",
     "text": [
      "c:\\Users\\flore\\AppData\\Local\\Programs\\Python\\Python311\\Lib\\site-packages\\sklearn\\neural_network\\_multilayer_perceptron.py:684: ConvergenceWarning: Stochastic Optimizer: Maximum iterations (200) reached and the optimization hasn't converged yet.\n",
      "  warnings.warn(\n"
     ]
    }
   ],
   "source": [
    "models = [\n",
    "    LogisticRegression(),\n",
    "    SVC(),\n",
    "    DecisionTreeClassifier(),\n",
    "    MLPClassifier(),\n",
    "    RandomForestClassifier(),\n",
    "    XGBClassifier()\n",
    "]\n",
    "\n",
    "for model in models:\n",
    "    model.fit(X_train, y_train)"
   ]
  },
  {
   "cell_type": "code",
   "execution_count": 58,
   "metadata": {},
   "outputs": [
    {
     "name": "stdout",
     "output_type": "stream",
     "text": [
      "   Logistic Regression: 98.6667%\n",
      "Support Vector Machine: 98.6667%\n",
      "         Decision Tree: 100.0000%\n",
      "        Neural Network: 100.0000%\n",
      "         Random Forest: 100.0000%\n",
      "               XGBoost: 100.0000%\n"
     ]
    }
   ],
   "source": [
    "model_names = [\n",
    "    \"   Logistic Regression\",\n",
    "    \"Support Vector Machine\",\n",
    "    \"         Decision Tree\",\n",
    "    \"        Neural Network\",\n",
    "    \"         Random Forest\",\n",
    "    \"               XGBoost\"\n",
    "]\n",
    "\n",
    "for model, name in zip(models, model_names):\n",
    "    print(name + \": {:.4f}%\".format(model.score(X_test, y_test) * 100))"
   ]
  }
 ],
 "metadata": {
  "kernelspec": {
   "display_name": "Python 3",
   "language": "python",
   "name": "python3"
  },
  "language_info": {
   "codemirror_mode": {
    "name": "ipython",
    "version": 3
   },
   "file_extension": ".py",
   "mimetype": "text/x-python",
   "name": "python",
   "nbconvert_exporter": "python",
   "pygments_lexer": "ipython3",
   "version": "3.11.1"
  },
  "orig_nbformat": 4
 },
 "nbformat": 4,
 "nbformat_minor": 2
}
