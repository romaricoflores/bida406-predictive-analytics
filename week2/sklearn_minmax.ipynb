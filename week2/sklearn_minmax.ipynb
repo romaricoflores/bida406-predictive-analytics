{
 "cells": [
  {
   "cell_type": "code",
   "execution_count": null,
   "metadata": {},
   "outputs": [],
   "source": [
    "import pandas as pd\n",
    "import numpy\n",
    "from sklearn.preprocessing import MinMaxScaler\n",
    "\n",
    "df0 = pd.read_csv(\"pop_0.csv\")\n",
    "header= [\"X1\",\"X2\",\"X3\",\"X4\",\"X5\",\"X6\",\"X7\",\"X8\",\"X9\",\"X10\",\"X11\",\"X12\",\"X13\",\"X14\",\"X15\"]\n",
    "\n",
    "scaler = MinMaxScaler()\n",
    "df0_norm = pd.DataFrame(scaler.fit_transform(df0), columns=header)\n",
    "df0_norm.to_csv(\"pop0_norm.csv\", header=True,index=False)"
   ]
  }
 ],
 "metadata": {
  "language_info": {
   "name": "python"
  },
  "orig_nbformat": 4
 },
 "nbformat": 4,
 "nbformat_minor": 2
}
