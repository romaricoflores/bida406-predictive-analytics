{
 "cells": [
  {
   "cell_type": "code",
   "execution_count": 1,
   "metadata": {},
   "outputs": [],
   "source": [
    "import pandas as pd"
   ]
  },
  {
   "cell_type": "markdown",
   "metadata": {},
   "source": [
    "### Task 1:\n",
    "Choose file 'alfalfa.csv' and make three new 'clean' files:\n",
    "a. Fill the NaNs with the median\n",
    "b. Fill the NaNs with the 'ffill' (propagate the last valid observation forward)\n",
    "c. Drop the rows with NaNs\n",
    "d. Find the mean, median and standard deviation for each new table (i.e., for all the columns, X1 to X15).\n",
    "e. Save the three new files with a new name."
   ]
  }
 ],
 "metadata": {
  "kernelspec": {
   "display_name": "Python 3",
   "language": "python",
   "name": "python3"
  },
  "language_info": {
   "codemirror_mode": {
    "name": "ipython",
    "version": 3
   },
   "file_extension": ".py",
   "mimetype": "text/x-python",
   "name": "python",
   "nbconvert_exporter": "python",
   "pygments_lexer": "ipython3",
   "version": "3.9.11"
  }
 },
 "nbformat": 4,
 "nbformat_minor": 2
}
