{
 "cells": [
  {
   "cell_type": "code",
   "execution_count": null,
   "metadata": {},
   "outputs": [],
   "source": [
    "import pandas as pd"
   ]
  },
  {
   "attachments": {},
   "cell_type": "markdown",
   "metadata": {},
   "source": [
    "### 1: Using 'alfalfa.csv', do the following:\n",
    "1. Fill the NaNs with the median\n",
    "2. Fill the NaNs with the 'ffill' (propagate the last valid observation forward)\n",
    "3. Drop the rows with NaNs\n",
    "4. Find the mean, median and standard deviation for each new table.\n",
    "5. Save the three new files with a new name."
   ]
  },
  {
   "attachments": {},
   "cell_type": "markdown",
   "metadata": {},
   "source": [
    "#### Tasks 1 - 3: Filling and Dropping NaNs"
   ]
  },
  {
   "cell_type": "code",
   "execution_count": null,
   "metadata": {},
   "outputs": [],
   "source": [
    "df_alfalfa = pd.read_csv(\"alfalfa.csv\")\n",
    "\n",
    "# Fill the NaNs with the median\n",
    "df_medfill = df_alfalfa.fillna(df_alfalfa.median())\n",
    "\n",
    "# Fill the NaNs with using forward fill\n",
    "df_ffill = df_alfalfa.fillna(df_alfalfa.ffill())\n",
    "\n",
    "# Drop the rows with NaNs\n",
    "df_dropna = df_alfalfa.dropna()"
   ]
  },
  {
   "attachments": {},
   "cell_type": "markdown",
   "metadata": {},
   "source": [
    "#### Task 4.a Mean, Median, and Standard Deviation of the Median filled data"
   ]
  },
  {
   "cell_type": "code",
   "execution_count": null,
   "metadata": {},
   "outputs": [],
   "source": [
    "# Mean\n",
    "mean_medfill = df_medfill.mean()\n",
    "mean_medfill"
   ]
  },
  {
   "cell_type": "code",
   "execution_count": null,
   "metadata": {},
   "outputs": [],
   "source": [
    "#Median\n",
    "median_medfill = df_medfill.median()\n",
    "median_medfill"
   ]
  },
  {
   "cell_type": "code",
   "execution_count": null,
   "metadata": {},
   "outputs": [],
   "source": [
    "#Standard Deviation\n",
    "std_medfill = df_medfill.std()\n",
    "std_medfill"
   ]
  },
  {
   "attachments": {},
   "cell_type": "markdown",
   "metadata": {},
   "source": [
    "#### Task 4.b Mean, Median, and Standard Deviation of the Forward-filled data"
   ]
  },
  {
   "cell_type": "code",
   "execution_count": null,
   "metadata": {},
   "outputs": [],
   "source": [
    "# Mean\n",
    "mean_ffill = df_ffill.mean()\n",
    "mean_ffill"
   ]
  },
  {
   "cell_type": "code",
   "execution_count": null,
   "metadata": {},
   "outputs": [],
   "source": [
    "#Median\n",
    "median_ffill = df_ffill.median()\n",
    "median_ffill"
   ]
  },
  {
   "cell_type": "code",
   "execution_count": null,
   "metadata": {},
   "outputs": [],
   "source": [
    "#Standard Deviation\n",
    "std_ffill = df_ffill.std()\n",
    "std_ffill"
   ]
  },
  {
   "attachments": {},
   "cell_type": "markdown",
   "metadata": {},
   "source": [
    "#### Task 4.c Mean, Median, and Standard Deviation of the Dropped-NaN data"
   ]
  },
  {
   "cell_type": "code",
   "execution_count": null,
   "metadata": {},
   "outputs": [],
   "source": [
    "# Mean\n",
    "mean_dropna = df_dropna.mean()\n",
    "mean_dropna"
   ]
  },
  {
   "cell_type": "code",
   "execution_count": null,
   "metadata": {},
   "outputs": [],
   "source": [
    "#Median\n",
    "median_dropna = df_dropna.median()\n",
    "median_dropna"
   ]
  },
  {
   "cell_type": "code",
   "execution_count": null,
   "metadata": {},
   "outputs": [],
   "source": [
    "#Standard Deviation\n",
    "std_dropna = df_dropna.std()\n",
    "std_dropna"
   ]
  },
  {
   "attachments": {},
   "cell_type": "markdown",
   "metadata": {},
   "source": [
    "#### Task 5. Save the three new files with a new name:"
   ]
  },
  {
   "cell_type": "code",
   "execution_count": null,
   "metadata": {},
   "outputs": [],
   "source": [
    "df_medfill.to_csv(\"Alfalfa-Median Fill.csv\")\n",
    "df_ffill.to_csv(\"Alfalfa-Forward Fill.csv\")\n",
    "df_dropna.to_csv(\"Alfalfa-Dropped NaN.csv\")"
   ]
  },
  {
   "attachments": {},
   "cell_type": "markdown",
   "metadata": {},
   "source": [
    "### Using \"pop_0.csv.\":\n",
    "1. Find descriptive statistics (shown in slides of file JN-week2) for all the columns\n",
    "2. Create a correlation table. Which column has the highest correlation with X1?\n",
    "3. Rank (X2 to X15) from the highest correlation to the lower correlation (with X1)\n",
    "4. Choose the file \"pop_1.csv\" and repeat A, B and C.\n",
    "5. Are two columns of X1, in pop_0 and pop_1, significantly different?"
   ]
  },
  {
   "cell_type": "markdown",
   "metadata": {},
   "source": [
    "#### Task 1: Find descriptive statistics for all the columns"
   ]
  }
 ],
 "metadata": {
  "kernelspec": {
   "display_name": "Python 3",
   "language": "python",
   "name": "python3"
  },
  "language_info": {
   "codemirror_mode": {
    "name": "ipython",
    "version": 3
   },
   "file_extension": ".py",
   "mimetype": "text/x-python",
   "name": "python",
   "nbconvert_exporter": "python",
   "pygments_lexer": "ipython3",
   "version": "3.11.1"
  },
  "orig_nbformat": 4
 },
 "nbformat": 4,
 "nbformat_minor": 2
}
