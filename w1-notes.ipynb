{
 "cells": [
  {
   "cell_type": "code",
   "execution_count": 12,
   "metadata": {},
   "outputs": [
    {
     "name": "stdout",
     "output_type": "stream",
     "text": [
      "      ,Unnamed: 0,longitude,latitude,housing_median_age,total_rooms,total_bedrooms,population,households,median_income,median_house_value,ocean_proximity\n",
      "0      0,0,-122.23,37.88,41.0,880.0,129.0,322.0,126.0...                                                                                                 \n",
      "1      1,1,-122.22,37.86,21.0,7099.0,1106.0,2401.0,11...                                                                                                 \n",
      "2      2,2,-122.24,37.85,52.0,1467.0,190.0,496.0,177....                                                                                                 \n",
      "3      3,3,-122.25,37.85,52.0,1274.0,235.0,558.0,219....                                                                                                 \n",
      "4      4,4,-122.25,37.85,52.0,1627.0,280.0,565.0,259....                                                                                                 \n",
      "...                                                  ...                                                                                                 \n",
      "20635  20635,20635,-121.09,39.48,25.0,1665.0,374.0,84...                                                                                                 \n",
      "20636  20636,20636,-121.21,39.49,18.0,697.0,150.0,356...                                                                                                 \n",
      "20637  20637,20637,-121.22,39.43,17.0,2254.0,485.0,10...                                                                                                 \n",
      "20638  20638,20638,-121.32,39.43,18.0,1860.0,409.0,74...                                                                                                 \n",
      "20639  20639,20639,-121.24,39.37,16.0,2785.0,616.0,13...                                                                                                 \n",
      "\n",
      "[20640 rows x 1 columns]\n"
     ]
    },
    {
     "ename": "NameError",
     "evalue": "name 'longitude' is not defined",
     "output_type": "error",
     "traceback": [
      "\u001b[1;31m---------------------------------------------------------------------------\u001b[0m",
      "\u001b[1;31mNameError\u001b[0m                                 Traceback (most recent call last)",
      "\u001b[1;32m<ipython-input-12-ac62081a4b5b>\u001b[0m in \u001b[0;36m<module>\u001b[1;34m\u001b[0m\n\u001b[0;32m      6\u001b[0m \u001b[0mprint\u001b[0m\u001b[1;33m(\u001b[0m\u001b[0mdf\u001b[0m\u001b[1;33m)\u001b[0m\u001b[1;33m\u001b[0m\u001b[1;33m\u001b[0m\u001b[0m\n\u001b[0;32m      7\u001b[0m \u001b[1;33m\u001b[0m\u001b[0m\n\u001b[1;32m----> 8\u001b[1;33m \u001b[0mgeometry\u001b[0m \u001b[1;33m=\u001b[0m \u001b[0mgpd\u001b[0m\u001b[1;33m.\u001b[0m\u001b[0mpoints_from_xy\u001b[0m\u001b[1;33m(\u001b[0m\u001b[0mlongitude\u001b[0m\u001b[1;33m,\u001b[0m \u001b[0mlatitude\u001b[0m\u001b[1;33m)\u001b[0m\u001b[1;33m\u001b[0m\u001b[1;33m\u001b[0m\u001b[0m\n\u001b[0m\u001b[0;32m      9\u001b[0m \u001b[0mgdf\u001b[0m \u001b[1;33m=\u001b[0m \u001b[0mgpd\u001b[0m\u001b[1;33m.\u001b[0m\u001b[0mGeoDataFrame\u001b[0m\u001b[1;33m(\u001b[0m\u001b[0mgeometry\u001b[0m\u001b[1;33m,\u001b[0m \u001b[0mcrs\u001b[0m\u001b[1;33m=\u001b[0m\u001b[1;34m'epsg:4326'\u001b[0m\u001b[1;33m)\u001b[0m\u001b[1;33m\u001b[0m\u001b[1;33m\u001b[0m\u001b[0m\n\u001b[0;32m     10\u001b[0m \u001b[1;33m\u001b[0m\u001b[0m\n",
      "\u001b[1;31mNameError\u001b[0m: name 'longitude' is not defined"
     ]
    }
   ],
   "source": [
    "import pandas as pd\n",
    "import geopandas as gpd\n",
    "import matplotlib.pyplot as plt\n",
    "\n",
    "df = pd.read_csv(r'C:\\Users\\flore\\OneDrive\\Desktop\\bida406\\Boston_Housing.csv', delimiter=';', header=0)\n",
    "print(df)\n",
    "\n",
    "geometry = gpd.points_from_xy(longitude, latitude)\n",
    "gdf = gpd.GeoDataFrame(geometry, crs='epsg:4326')"
   ]
  },
  {
   "cell_type": "code",
   "execution_count": 7,
   "metadata": {},
   "outputs": [
    {
     "data": {
      "text/html": [
       "<div>\n",
       "<style scoped>\n",
       "    .dataframe tbody tr th:only-of-type {\n",
       "        vertical-align: middle;\n",
       "    }\n",
       "\n",
       "    .dataframe tbody tr th {\n",
       "        vertical-align: top;\n",
       "    }\n",
       "\n",
       "    .dataframe thead th {\n",
       "        text-align: right;\n",
       "    }\n",
       "</style>\n",
       "<table border=\"1\" class=\"dataframe\">\n",
       "  <thead>\n",
       "    <tr style=\"text-align: right;\">\n",
       "      <th></th>\n",
       "      <th>,Unnamed: 0,longitude,latitude,housing_median_age,total_rooms,total_bedrooms,population,households,median_income,median_house_value,ocean_proximity</th>\n",
       "    </tr>\n",
       "  </thead>\n",
       "  <tbody>\n",
       "    <tr>\n",
       "      <th>0</th>\n",
       "      <td>0,0,-122.23,37.88,41.0,880.0,129.0,322.0,126.0...</td>\n",
       "    </tr>\n",
       "    <tr>\n",
       "      <th>1</th>\n",
       "      <td>1,1,-122.22,37.86,21.0,7099.0,1106.0,2401.0,11...</td>\n",
       "    </tr>\n",
       "    <tr>\n",
       "      <th>2</th>\n",
       "      <td>2,2,-122.24,37.85,52.0,1467.0,190.0,496.0,177....</td>\n",
       "    </tr>\n",
       "    <tr>\n",
       "      <th>3</th>\n",
       "      <td>3,3,-122.25,37.85,52.0,1274.0,235.0,558.0,219....</td>\n",
       "    </tr>\n",
       "    <tr>\n",
       "      <th>4</th>\n",
       "      <td>4,4,-122.25,37.85,52.0,1627.0,280.0,565.0,259....</td>\n",
       "    </tr>\n",
       "    <tr>\n",
       "      <th>...</th>\n",
       "      <td>...</td>\n",
       "    </tr>\n",
       "    <tr>\n",
       "      <th>20635</th>\n",
       "      <td>20635,20635,-121.09,39.48,25.0,1665.0,374.0,84...</td>\n",
       "    </tr>\n",
       "    <tr>\n",
       "      <th>20636</th>\n",
       "      <td>20636,20636,-121.21,39.49,18.0,697.0,150.0,356...</td>\n",
       "    </tr>\n",
       "    <tr>\n",
       "      <th>20637</th>\n",
       "      <td>20637,20637,-121.22,39.43,17.0,2254.0,485.0,10...</td>\n",
       "    </tr>\n",
       "    <tr>\n",
       "      <th>20638</th>\n",
       "      <td>20638,20638,-121.32,39.43,18.0,1860.0,409.0,74...</td>\n",
       "    </tr>\n",
       "    <tr>\n",
       "      <th>20639</th>\n",
       "      <td>20639,20639,-121.24,39.37,16.0,2785.0,616.0,13...</td>\n",
       "    </tr>\n",
       "  </tbody>\n",
       "</table>\n",
       "<p>20640 rows × 1 columns</p>\n",
       "</div>"
      ],
      "text/plain": [
       "      ,Unnamed: 0,longitude,latitude,housing_median_age,total_rooms,total_bedrooms,population,households,median_income,median_house_value,ocean_proximity\n",
       "0      0,0,-122.23,37.88,41.0,880.0,129.0,322.0,126.0...                                                                                                 \n",
       "1      1,1,-122.22,37.86,21.0,7099.0,1106.0,2401.0,11...                                                                                                 \n",
       "2      2,2,-122.24,37.85,52.0,1467.0,190.0,496.0,177....                                                                                                 \n",
       "3      3,3,-122.25,37.85,52.0,1274.0,235.0,558.0,219....                                                                                                 \n",
       "4      4,4,-122.25,37.85,52.0,1627.0,280.0,565.0,259....                                                                                                 \n",
       "...                                                  ...                                                                                                 \n",
       "20635  20635,20635,-121.09,39.48,25.0,1665.0,374.0,84...                                                                                                 \n",
       "20636  20636,20636,-121.21,39.49,18.0,697.0,150.0,356...                                                                                                 \n",
       "20637  20637,20637,-121.22,39.43,17.0,2254.0,485.0,10...                                                                                                 \n",
       "20638  20638,20638,-121.32,39.43,18.0,1860.0,409.0,74...                                                                                                 \n",
       "20639  20639,20639,-121.24,39.37,16.0,2785.0,616.0,13...                                                                                                 \n",
       "\n",
       "[20640 rows x 1 columns]"
      ]
     },
     "execution_count": 7,
     "metadata": {},
     "output_type": "execute_result"
    }
   ],
   "source": [
    "df"
   ]
  },
  {
   "cell_type": "code",
   "execution_count": 10,
   "metadata": {},
   "outputs": [
    {
     "name": "stdout",
     "output_type": "stream",
     "text": [
      "<class 'pandas.core.frame.DataFrame'>\n",
      "RangeIndex: 20640 entries, 0 to 20639\n",
      "Data columns (total 1 columns):\n",
      " #   Column                                                                                                                                               Non-Null Count  Dtype \n",
      "---  ------                                                                                                                                               --------------  ----- \n",
      " 0   ,Unnamed: 0,longitude,latitude,housing_median_age,total_rooms,total_bedrooms,population,households,median_income,median_house_value,ocean_proximity  20640 non-null  object\n",
      "dtypes: object(1)\n",
      "memory usage: 161.4+ KB\n"
     ]
    }
   ],
   "source": [
    "df.info()"
   ]
  },
  {
   "cell_type": "code",
   "execution_count": null,
   "metadata": {},
   "outputs": [],
   "source": []
  }
 ],
 "metadata": {
  "kernelspec": {
   "display_name": "Python 3",
   "language": "python",
   "name": "python3"
  },
  "language_info": {
   "codemirror_mode": {
    "name": "ipython",
    "version": 3
   },
   "file_extension": ".py",
   "mimetype": "text/x-python",
   "name": "python",
   "nbconvert_exporter": "python",
   "pygments_lexer": "ipython3",
   "version": "3.9.11"
  },
  "vscode": {
   "interpreter": {
    "hash": "529bc09e672e5911bdbfbc75f67f482e6ac06a7d1dd84d72395afb1539c6bca0"
   }
  }
 },
 "nbformat": 4,
 "nbformat_minor": 2
}
